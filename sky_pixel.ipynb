{
  "nbformat": 4,
  "nbformat_minor": 0,
  "metadata": {
    "colab": {
      "provenance": []
    },
    "kernelspec": {
      "name": "python3",
      "display_name": "Python 3"
    },
    "language_info": {
      "name": "python"
    }
  },
  "cells": [
    {
      "cell_type": "code",
      "execution_count": null,
      "metadata": {
        "id": "RrOXkIjlk25M"
      },
      "outputs": [],
      "source": [
        "!pip install gradio\n",
        "from google.colab import drive\n",
        "import cv2\n",
        "import numpy as np\n",
        "import gradio as gr\n",
        "from scipy.signal import medfilt\n",
        "from matplotlib import pyplot as plt\n",
        "\n",
        "# Mount Google Drive\n",
        "drive.mount('/content/drive', force_remount=True)\n",
        "\n",
        "def refine_skyline(mask):\n",
        "    \"\"\"\n",
        "    Refines the skyline in the given binary mask by adjusting column-wise transitions.\n",
        "\n",
        "    Parameters:\n",
        "    - mask (numpy.ndarray): Binary mask to be refined.\n",
        "\n",
        "    Returns:\n",
        "    - numpy.ndarray: Refined binary mask.\n",
        "    \"\"\"\n",
        "    # Extract the number of rows and columns from the input binary mask\n",
        "    num_rows, num_cols = mask.shape\n",
        "\n",
        "    # Iterate through each column in the binary mask\n",
        "    for col_index in range(num_cols):\n",
        "        current_column = mask[:, col_index]\n",
        "        # Apply median filtering to the current column with a window size of 19 for smoothing\n",
        "        smoothed_column = medfilt(current_column, 19)\n",
        "\n",
        "        try:\n",
        "            # Attempt to find the index of the first occurrence of 0 in the smoothed column\n",
        "            first_zero_index = np.where(smoothed_column == 0)[0][0]\n",
        "            # Attempt to find the index of the first occurrence of 1 in the smoothed column\n",
        "            first_one_index = np.where(smoothed_column == 1)[0][0]\n",
        "\n",
        "            # Adjust skyline if there is a significant transition\n",
        "            # Check if there is a significant transition (more than 20 pixels away from the start)\n",
        "            if first_zero_index > 20:\n",
        "                # Adjust the skyline by setting pixels between the first occurrence of 1 and 0 to 1\n",
        "                mask[first_one_index:first_zero_index, col_index] = 1\n",
        "                mask[first_zero_index:, col_index] = 0\n",
        "                mask[:first_one_index, col_index] = 0\n",
        "\n",
        "        except IndexError:\n",
        "            continue\n",
        "\n",
        "    # Return the refined binary mask after adjusting column-wise transitions\n",
        "    return mask\n",
        "\n",
        "def get_sky_region_gradient(img):\n",
        "    \"\"\"\n",
        "    Extracts the sky region using gradient-based methods.\n",
        "\n",
        "    Parameters:\n",
        "    - img (numpy.ndarray): Input image.\n",
        "\n",
        "    Returns:\n",
        "    - tuple: Tuple containing the resulting image and the refined binary mask.\n",
        "    \"\"\"\n",
        "    height, width, _ = img.shape\n",
        "\n",
        "    # Convert the image to grayscale\n",
        "    img_gray = cv2.cvtColor(img, cv2.COLOR_BGR2GRAY)\n",
        "\n",
        "    # Blur the image to reduce noise\n",
        "    img_blurred = cv2.blur(img_gray, (9, 3))\n",
        "\n",
        "    # Apply median blur to further reduce noise\n",
        "    cv2.medianBlur(img_blurred, 5)\n",
        "\n",
        "    # Apply Laplacian filter to enhance edges\n",
        "    laplacian_output = cv2.Laplacian(img_blurred, cv2.CV_8U)\n",
        "\n",
        "    # Create a gradient mask based on Laplacian filter output\n",
        "    gradient_mask = (laplacian_output < 6).astype(np.uint8)\n",
        "\n",
        "    # Define a morphological kernel\n",
        "    morph_kernel = cv2.getStructuringElement(cv2.MORPH_RECT, (9, 3))\n",
        "\n",
        "    # Erode the gradient mask to remove small artifacts\n",
        "    gradient_mask_eroded = cv2.morphologyEx(gradient_mask, cv2.MORPH_ERODE, morph_kernel)\n",
        "\n",
        "    # Copy the original mask for further processing\n",
        "    mask_copy = gradient_mask_eroded.copy()\n",
        "\n",
        "    # Refine the mask using the refine_skyline function\n",
        "    refined_mask = refine_skyline(mask_copy)\n",
        "\n",
        "    # Apply the refined mask to the original image\n",
        "    after_img = cv2.bitwise_and(img, img, mask=refined_mask)\n",
        "\n",
        "    return after_img, refined_mask"
      ]
    },
    {
      "cell_type": "code",
      "source": [
        "def gr_sky_region_extraction(image):\n",
        "    \"\"\"\n",
        "    Converts a Gradio Image type to a numpy array, extracts the sky region, and returns the resulting image in RGB format.\n",
        "\n",
        "    Parameters:\n",
        "    - image: Gradio Image type.\n",
        "\n",
        "    Returns:\n",
        "    - numpy.ndarray: Image in RGB format with identified sky pixels.\n",
        "    \"\"\"\n",
        "    # Convert Gradio Image type to numpy array\n",
        "    image_array = np.array(image)\n",
        "\n",
        "    # Sky region extraction\n",
        "    img_gray = cv2.cvtColor(image_array, cv2.COLOR_BGR2GRAY)\n",
        "    masked_image, binary_mask = get_sky_region_gradient(image_array)\n",
        "\n",
        "    # Convert the output image to RGB for Gradio compatibility\n",
        "    output_image_rgb = cv2.cvtColor(masked_image, cv2.COLOR_BGR2RGB)\n",
        "\n",
        "    return output_image_rgb\n",
        "\n",
        "# Define the Gradio interface\n",
        "demo = gr.Interface(\n",
        "    fn=gr_sky_region_extraction,\n",
        "    inputs=\"image\",\n",
        "    outputs=\"image\",\n",
        "    title=\"Sky Pixel Identification\",\n",
        "    description=\"Result： Light part indicates sky pixels, dark for non-sky\",\n",
        "    allow_flagging=\"never\",\n",
        "    live=True,\n",
        "    )\n",
        "\n",
        "# Launch the Gradio interface\n",
        "demo.launch()"
      ],
      "metadata": {
        "colab": {
          "base_uri": "https://localhost:8080/",
          "height": 626
        },
        "id": "jJuYWVT5354V",
        "outputId": "ffe7a213-6652-424f-8e16-070dfbc17a3b"
      },
      "execution_count": 7,
      "outputs": [
        {
          "output_type": "stream",
          "name": "stdout",
          "text": [
            "Setting queue=True in a Colab notebook requires sharing enabled. Setting `share=True` (you can turn this off by setting `share=False` in `launch()` explicitly).\n",
            "\n",
            "Colab notebook detected. To show errors in colab notebook, set debug=True in launch()\n",
            "Running on public URL: https://fb3736638c5a8fd99f.gradio.live\n",
            "\n",
            "This share link expires in 72 hours. For free permanent hosting and GPU upgrades, run `gradio deploy` from Terminal to deploy to Spaces (https://huggingface.co/spaces)\n"
          ]
        },
        {
          "output_type": "display_data",
          "data": {
            "text/plain": [
              "<IPython.core.display.HTML object>"
            ],
            "text/html": [
              "<div><iframe src=\"https://fb3736638c5a8fd99f.gradio.live\" width=\"100%\" height=\"500\" allow=\"autoplay; camera; microphone; clipboard-read; clipboard-write;\" frameborder=\"0\" allowfullscreen></iframe></div>"
            ]
          },
          "metadata": {}
        },
        {
          "output_type": "execute_result",
          "data": {
            "text/plain": []
          },
          "metadata": {},
          "execution_count": 7
        }
      ]
    }
  ]
}